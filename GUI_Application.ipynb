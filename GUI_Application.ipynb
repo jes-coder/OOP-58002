{
  "nbformat": 4,
  "nbformat_minor": 0,
  "metadata": {
    "colab": {
      "name": "GUI Application.ipynb",
      "provenance": [],
      "authorship_tag": "ABX9TyOiX55ta/9LswfEYSuCGVgl",
      "include_colab_link": true
    },
    "kernelspec": {
      "name": "python3",
      "display_name": "Python 3"
    },
    "language_info": {
      "name": "python"
    }
  },
  "cells": [
    {
      "cell_type": "markdown",
      "metadata": {
        "id": "view-in-github",
        "colab_type": "text"
      },
      "source": [
        "<a href=\"https://colab.research.google.com/github/jes-coder/OOP-58002/blob/main/GUI_Application.ipynb\" target=\"_parent\"><img src=\"https://colab.research.google.com/assets/colab-badge.svg\" alt=\"Open In Colab\"/></a>"
      ]
    },
    {
      "cell_type": "markdown",
      "source": [
        "Create a Python that displays the grades of a student in prelim,midterm,and final term"
      ],
      "metadata": {
        "id": "RNc1BUcnbISr"
      }
    },
    {
      "cell_type": "code",
      "source": [
        "#@title student's grade in OOP\n",
        "\n",
        "student_name =  'Jesrael Sy'#@param (student_name = type. \"string\")\n",
        "prelim_grade =  90#@param (prelim_grade = type. \"number\")\n",
        "midterm_grade =  85#@param (midterm_grade = type. \"number\")\n",
        "final_grade =  90 #@param (final_grade = type. \"number\")\n",
        "semestral = (prelim_grade*0.30+midterm_grade*0.30+final_grade*0.40)\n",
        "\n",
        "print(\" the semestral grade of the student is \" + str(round((semestral).config/2))\n",
        "Gender = \"female\" #@param [\"male\", \"female\"]\n",
        "birthdate = \"2022-04-21\" #@param (birthdate = type. \"number\")\n",
        "\n",
        "print(Gender)\n",
        "print(\"my birthday is \"+ \".\" + birthdate)"
      ],
      "metadata": {
        "id": "1YISNnSRbGvl"
      },
      "execution_count": null,
      "outputs": []
    }
  ]
}