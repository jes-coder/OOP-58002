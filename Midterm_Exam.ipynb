{
  "nbformat": 4,
  "nbformat_minor": 0,
  "metadata": {
    "colab": {
      "name": "Midterm Exam.ipynb",
      "provenance": [],
      "authorship_tag": "ABX9TyPqQ2j1tWi4FGMUqtRLEz8u",
      "include_colab_link": true
    },
    "kernelspec": {
      "name": "python3",
      "display_name": "Python 3"
    },
    "language_info": {
      "name": "python"
    }
  },
  "cells": [
    {
      "cell_type": "markdown",
      "metadata": {
        "id": "view-in-github",
        "colab_type": "text"
      },
      "source": [
        "<a href=\"https://colab.research.google.com/github/jes-coder/OOP-58002/blob/main/Midterm_Exam.ipynb\" target=\"_parent\"><img src=\"https://colab.research.google.com/assets/colab-badge.svg\" alt=\"Open In Colab\"/></a>"
      ]
    },
    {
      "cell_type": "markdown",
      "source": [
        "Program 1: Modify the program below by adding two conversion methods - Fahrenheit to Celsius and Kelvin to Celsius (50 points)*\n"
      ],
      "metadata": {
        "id": "wwM1W0YOZKwm"
      }
    },
    {
      "cell_type": "code",
      "source": [
        "def main():\n",
        "\n",
        " class TemperatureConversion:\n",
        "\n",
        "  def __init__(self, temp=1):\n",
        "\n",
        "   self._temp = temp\n",
        "\n",
        " class Fahrenheit_To_Celsius(TemperatureConversion):\n",
        "\n",
        "  def conversion(self):\n",
        "\n",
        "   return (self._temp - 32) * 5 / 9\n",
        "\n",
        " tempInCelsius = float(input(\"Enter the temperature in Fahrenheit: \"))\n",
        "  \n",
        " convert = Fahrenheit_To_Celsius(tempInCelsius)\n",
        "  \n",
        " print(str(convert.conversion()) + \" Celsius\")\n",
        "\n",
        " class Kelvin_To_Celsius(TemperatureConversion):\n",
        "\n",
        "  def conversion(self):\n",
        "\n",
        "   return (self._temp - 273.15)\n",
        "\n",
        " tempInCelsius = float(input(\"Enter the temperature in Kelvin: \"))\n",
        "\n",
        " convert = Kelvin_To_Celsius(tempInCelsius)\n",
        "\n",
        " print(str(convert.conversion()) + \" Celsius\")\n",
        "\n",
        "main()"
      ],
      "metadata": {
        "colab": {
          "base_uri": "https://localhost:8080/"
        },
        "id": "uY9SRZzFf-Of",
        "outputId": "94da8108-5047-4704-e1ed-ab7cc9aed945"
      },
      "execution_count": 17,
      "outputs": [
        {
          "output_type": "stream",
          "name": "stdout",
          "text": [
            "Enter the temperature in Fahrenheit: 75\n",
            "23.88888888888889 Celsius\n",
            "Enter the temperature in Kelvin: 75\n",
            "-198.14999999999998 Celsius\n"
          ]
        }
      ]
    }
  ]
}