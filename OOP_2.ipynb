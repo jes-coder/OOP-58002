{
  "cells": [
    {
      "cell_type": "markdown",
      "metadata": {
        "id": "view-in-github",
        "colab_type": "text"
      },
      "source": [
        "<a href=\"https://colab.research.google.com/github/jes-coder/OOP-58002/blob/main/OOP_2.ipynb\" target=\"_parent\"><img src=\"https://colab.research.google.com/assets/colab-badge.svg\" alt=\"Open In Colab\"/></a>"
      ]
    },
    {
      "cell_type": "markdown",
      "metadata": {
        "id": "A7-gR_EkUw-j"
      },
      "source": [
        "Classes with multiple objects"
      ]
    },
    {
      "cell_type": "code",
      "execution_count": null,
      "metadata": {
        "id": "vwKYiYW6UyLm"
      },
      "outputs": [],
      "source": [
        "class Birds:\n",
        "  def __init__(self, bird_name):\n",
        "    self.bird_name = bird_name\n",
        "\n",
        "  def flying_birds(self):\n",
        "    print(f\"{self.bird_name} flies above clouds\")\n",
        "\n",
        "  def non_flying_birds(self):\n",
        "    print(f\"{self.bird_name} is the national bird of the Philippines\")\n",
        "  \n",
        "vulture = Birds(\"Griffon Vulture\")\n",
        "crane = Birds(\"Common Crane\")\n",
        "emu = Birds(\"Emu\")\n",
        "\n",
        "vulture.flying_birds()\n",
        "crane.flying_birds()\n",
        "emu.non_flying_birds()"
      ]
    },
    {
      "cell_type": "markdown",
      "metadata": {
        "id": "_fAa-YJjXRp2"
      },
      "source": [
        "Encapsulation"
      ]
    },
    {
      "cell_type": "code",
      "execution_count": null,
      "metadata": {
        "colab": {
          "base_uri": "https://localhost:8080/"
        },
        "id": "0dtuuvKSXT92",
        "outputId": "0c0de9a2-01e0-4f81-bf87-c5b3ab855eb8"
      },
      "outputs": [
        {
          "name": "stdout",
          "output_type": "stream",
          "text": [
            "7\n",
            "-1\n",
            "5\n",
            "8\n",
            "-2\n"
          ]
        }
      ],
      "source": [
        "class foo:\n",
        "  def __init__(self, a, b):\n",
        "    self.a = a\n",
        "    self.b = b\n",
        "\n",
        "  def add(self):\n",
        "    return self.a + self.b\n",
        "  def sub(self):\n",
        "    return self.a - self.b\n",
        "\n",
        "foo_object = foo(3,4)\n",
        "print(foo_object.add())\n",
        "print(foo_object.sub())\n",
        "\n",
        "foo_object.b = 5            #(3, 5)\n",
        "print(foo_object.b)\n",
        "print(foo_object.add())     #adding a and b\n",
        "print(foo_object.sub())     #subtracting a and b"
      ]
    },
    {
      "cell_type": "markdown",
      "metadata": {
        "id": "xIpwxmx2dU8z"
      },
      "source": [
        "Inheritance"
      ]
    },
    {
      "cell_type": "code",
      "execution_count": null,
      "metadata": {
        "colab": {
          "base_uri": "https://localhost:8080/"
        },
        "id": "VBn7loUbdWxf",
        "outputId": "08aa755a-f7f0-4fad-be8e-7e9aabbbc4ab"
      },
      "outputs": [
        {
          "name": "stdout",
          "output_type": "stream",
          "text": [
            "Maam Sayo\n",
            "Ashley Goce\n"
          ]
        }
      ],
      "source": [
        "class Person:\n",
        "  def __init__(self, firstname, surname):\n",
        "    self.firstname = firstname\n",
        "    self.surname = surname\n",
        "\n",
        "  def printname(self):\n",
        "    print(self.firstname, self.surname)\n",
        "\n",
        "person = Person(\"Maam\",\"Sayo\")\n",
        "person.printname()\n",
        "\n",
        "class Student(Person):\n",
        "  pass\n",
        "\n",
        "person = Student(\"Ashley\", \"Goce\")\n",
        "\n",
        "person.printname()\n"
      ]
    },
    {
      "cell_type": "markdown",
      "metadata": {
        "id": "5p9qQdcZgsSA"
      },
      "source": [
        "Polymorphism"
      ]
    },
    {
      "cell_type": "code",
      "execution_count": null,
      "metadata": {
        "colab": {
          "base_uri": "https://localhost:8080/"
        },
        "id": "ZH_CWMGCguzK",
        "outputId": "1b8b168e-95e0-4f93-8447-c68f96b7c38d"
      },
      "outputs": [
        {
          "name": "stdout",
          "output_type": "stream",
          "text": [
            "16\n",
            "3.897\n"
          ]
        }
      ],
      "source": [
        "class RegularPolygon:\n",
        "  def __init__(self, side):\n",
        "    self.side = side\n",
        "class Square(RegularPolygon):\n",
        "  def area(self):\n",
        "    return self.side * self.side\n",
        "class EquilateralTriangle(RegularPolygon):\n",
        "  def area(self):\n",
        "    return self.side * self.side * 0.433\n",
        "\n",
        "x = Square(4)\n",
        "y = EquilateralTriangle(3)\n",
        "\n",
        "print(x.area())\n",
        "print(y.area())"
      ]
    },
    {
      "cell_type": "markdown",
      "metadata": {
        "id": "6vzoqtz3h7lh"
      },
      "source": [
        "Application 1"
      ]
    },
    {
      "cell_type": "code",
      "execution_count": null,
      "metadata": {
        "id": "igpJZP8NchUW"
      },
      "outputs": [],
      "source": [
        "class students:\n",
        "    count = 0\n",
        "    def __init__(self, name,):\n",
        "        self.name = name\n",
        "        self.marks = []\n",
        "        students.count = students.count\n",
        "        \n",
        "    def enterMarks(self):\n",
        "        for i in range(1):\n",
        "            m = int(input(\"Enter the grade of %s on Prelim: \"%(self.name)))\n",
        "            self.marks.append(m)\n",
        "        for i in range(1):\n",
        "            m = int(input(\"Enter the grade of %s on Midterm: \"%(self.name)))\n",
        "            self.marks.append(m)\n",
        "        for i in range(1):\n",
        "            m = int(input(\"Enter the grade of %s on Finals: \"%(self.name)))\n",
        "            self.marks.append(m)\n",
        "\n",
        "    def display(self):\n",
        "        print (self.name, \"Grades are\", self.marks)\n",
        "\n",
        "name = input(\"Enter the name of Student 1 : \")\n",
        "\n",
        "s1 = students(name)\n",
        "s1.enterMarks()\n",
        "s1.display()\n",
        "print (\"\")\n",
        "\n",
        "name = input(\"Enter the name of Student 2 : \")\n",
        "\n",
        "s2 = students(name)\n",
        "s2.enterMarks()\n",
        "s2.display()\n",
        "print (\"\")\n",
        "\n",
        "name = input(\"Enter the name of Student 3 : \")\n",
        "\n",
        "s3 = students(name)\n",
        "s3.enterMarks()\n",
        "s3.display()\n",
        "print (\"\")\n",
        "\n",
        "print()"
      ]
    }
  ],
  "metadata": {
    "colab": {
      "collapsed_sections": [],
      "name": "OOP-2.ipynb",
      "provenance": [],
      "authorship_tag": "ABX9TyOyUCatb7N2sXHSC70WqRL0",
      "include_colab_link": true
    },
    "kernelspec": {
      "display_name": "Python 3",
      "name": "python3"
    },
    "language_info": {
      "name": "python"
    }
  },
  "nbformat": 4,
  "nbformat_minor": 0
}