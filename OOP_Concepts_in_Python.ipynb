{
  "nbformat": 4,
  "nbformat_minor": 0,
  "metadata": {
    "colab": {
      "name": "OOP Concepts in Python.ipynb",
      "provenance": [],
      "authorship_tag": "ABX9TyNnnNT1gUh2HrefezWTJ+Eh",
      "include_colab_link": true
    },
    "kernelspec": {
      "name": "python3",
      "display_name": "Python 3"
    },
    "language_info": {
      "name": "python"
    }
  },
  "cells": [
    {
      "cell_type": "markdown",
      "metadata": {
        "id": "view-in-github",
        "colab_type": "text"
      },
      "source": [
        "<a href=\"https://colab.research.google.com/github/jes-coder/OOP-58002/blob/main/OOP_Concepts_in_Python.ipynb\" target=\"_parent\"><img src=\"https://colab.research.google.com/assets/colab-badge.svg\" alt=\"Open In Colab\"/></a>"
      ]
    },
    {
      "cell_type": "markdown",
      "source": [
        ""
      ],
      "metadata": {
        "id": "3cwwrb1cHcc9"
      }
    },
    {
      "cell_type": "markdown",
      "source": [
        "#Create a Class"
      ],
      "metadata": {
        "id": "To0VhPokHdvc"
      }
    },
    {
      "cell_type": "code",
      "source": [
        "class Car:\n",
        "  pass"
      ],
      "metadata": {
        "id": "XFMAd04kHgCP"
      },
      "execution_count": 1,
      "outputs": []
    },
    {
      "cell_type": "markdown",
      "source": [
        "Create an Object"
      ],
      "metadata": {
        "id": "YEJ2jqlZW9be"
      }
    },
    {
      "cell_type": "code",
      "source": [
        "class Car:\n",
        "  def _init_(self,name,color): # all classes have function called _int_:\n",
        "    self.name = name            #attribute names of class named Car\n",
        "    self.color = color\n",
        "\n",
        "    def description(self):\n",
        "      return \"The\"+ self.name +\"has a color\" + self.color\n",
        "\n",
        "    def show(self):\n",
        "      print(\"The\"+\" \"+self.name+\" \"+\"has a color\")\n",
        "\n",
        "    car1 = Car(\"honda City\",\"red\")\n",
        "    car1.show()"
      ],
      "metadata": {
        "id": "HBdJMswIW_y1"
      },
      "execution_count": 36,
      "outputs": []
    },
    {
      "cell_type": "markdown",
      "source": [
        "Objects Method\n"
      ],
      "metadata": {
        "id": "XkWXCGq-XIzq"
      }
    },
    {
      "cell_type": "code",
      "source": [
        "class Person:\n",
        "  def _init_(self,name,age):\n",
        "    self.name = name\n",
        "    self.age = age\n",
        "  def myFunction(self):\n",
        "    print(\"Hello! My name is\",self.name)\n",
        "    print(\"I am\",self.age)\n",
        "\n",
        "  p1 = Person.(\"Maria\", 40)\n",
        "  p1 = myFunction()"
      ],
      "metadata": {
        "id": "5JacB4vXOVeW"
      },
      "execution_count": null,
      "outputs": []
    },
    {
      "cell_type": "markdown",
      "source": [
        "modify an Object propery"
      ],
      "metadata": {
        "id": "EqMoRAUyP2cN"
      }
    },
    {
      "cell_type": "code",
      "source": [
        "class Car:\n",
        "  def _init_(self,name,color): # all classes have function called _int_:\n",
        "    self.name = name            #attribute names of class named Car\n",
        "    self.color = color\n",
        "\n",
        "    def description(self):\n",
        "      return self.name.self.color\n",
        "\n",
        "    def show(self):\n",
        "      print(\"The brand name and color are\", self.description+())\n",
        "\n",
        "    car1 = Car(\"Honda City\",\"red\")\n",
        "    car1.show()"
      ],
      "metadata": {
        "id": "ymQXY1kVQMDQ"
      },
      "execution_count": 29,
      "outputs": []
    },
    {
      "cell_type": "code",
      "source": [
        "car1.name = \"Mitsubishi\"\n",
        "print(car1.name)"
      ],
      "metadata": {
        "id": "ay6mPOJHQkH8"
      },
      "execution_count": null,
      "outputs": []
    },
    {
      "cell_type": "markdown",
      "source": [
        "Delete an Object Property"
      ],
      "metadata": {
        "id": "jrAR6DrLWkM0"
      }
    },
    {
      "cell_type": "code",
      "source": [
        "del car1.color\n",
        "print(car1.name)\n",
        "print(car1.color)"
      ],
      "metadata": {
        "id": "-UTqgVANWnXQ"
      },
      "execution_count": null,
      "outputs": []
    },
    {
      "cell_type": "markdown",
      "source": [
        "Application 1 - write a python program that computes for the Area and Perimeter of a Square, and create a class name Square with side as its attribute."
      ],
      "metadata": {
        "id": "jZIbFJfCXoSR"
      }
    },
    {
      "cell_type": "code",
      "source": [
        "#Area of a Square = s*s\n",
        "#Perimeter of a Square = 4*s = s+s+s+s\n",
        "\n",
        "class Square:\n",
        "  def _init_(self,side):\n",
        "    self.side = side\n",
        "\n",
        "  def Area(self):\n",
        "    return self.side*self.side\n",
        "\n",
        "  def Perimeter(self):\n",
        "    return 4*(self.side)\n",
        "\n",
        "  def display(self):\n",
        "    print(\"The are of a square is\",self.Area())\n",
        "    print(\"The perimeter of a square is\",self.Perimeter())\n",
        "\n",
        "sq1 = Square(2)\n",
        "sq1.display()\n"
      ],
      "metadata": {
        "id": "UVUV65zDX2y4"
      },
      "execution_count": null,
      "outputs": []
    }
  ]
}