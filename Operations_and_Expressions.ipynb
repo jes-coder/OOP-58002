{
  "nbformat": 4,
  "nbformat_minor": 0,
  "metadata": {
    "colab": {
      "name": "Operations and Expressions.ipynb",
      "provenance": [],
      "collapsed_sections": [],
      "authorship_tag": "ABX9TyM/g1yawVwmNvVkD894GP1l",
      "include_colab_link": true
    },
    "kernelspec": {
      "name": "python3",
      "display_name": "Python 3"
    },
    "language_info": {
      "name": "python"
    }
  },
  "cells": [
    {
      "cell_type": "markdown",
      "metadata": {
        "id": "view-in-github",
        "colab_type": "text"
      },
      "source": [
        "<a href=\"https://colab.research.google.com/github/jes-coder/OOP-58002/blob/main/Operations_and_Expressions.ipynb\" target=\"_parent\"><img src=\"https://colab.research.google.com/assets/colab-badge.svg\" alt=\"Open In Colab\"/></a>"
      ]
    },
    {
      "cell_type": "markdown",
      "source": [
        "#Boolean Operators\n"
      ],
      "metadata": {
        "id": "tDq893_jDyKd"
      }
    },
    {
      "cell_type": "code",
      "source": [
        "a=7\n",
        "b=8\n",
        "\n",
        "10>9"
      ],
      "metadata": {
        "colab": {
          "base_uri": "https://localhost:8080/"
        },
        "id": "Kn64BOCED6Xs",
        "outputId": "14ccc363-34d2-40ec-d0e1-933efc377095"
      },
      "execution_count": 2,
      "outputs": [
        {
          "output_type": "execute_result",
          "data": {
            "text/plain": [
              "True"
            ]
          },
          "metadata": {},
          "execution_count": 2
        }
      ]
    },
    {
      "cell_type": "markdown",
      "source": [
        "#bool() function\n"
      ],
      "metadata": {
        "id": "AihRJTBNE-PE"
      }
    },
    {
      "cell_type": "code",
      "source": [
        "print(bool(\"Maria\"))\n",
        "print(bool(1))\n",
        "print(bool(0))\n",
        "print(bool(None))\n",
        "print(bool(False))\n",
        "print(bool(True))    "
      ],
      "metadata": {
        "colab": {
          "base_uri": "https://localhost:8080/"
        },
        "id": "8Wi0igoXFBMr",
        "outputId": "4f9161de-9a46-4969-da57-6ff7d0ab0563"
      },
      "execution_count": 4,
      "outputs": [
        {
          "output_type": "stream",
          "name": "stdout",
          "text": [
            "True\n",
            "True\n",
            "False\n",
            "False\n",
            "False\n",
            "True\n"
          ]
        }
      ]
    },
    {
      "cell_type": "markdown",
      "source": [
        "#Functions can return a Boolean"
      ],
      "metadata": {
        "id": "-x3Q_FjEFo2O"
      }
    },
    {
      "cell_type": "code",
      "source": [
        "def My_Function():\n",
        "  return False\n",
        "  #return True\n",
        "\n",
        "print(My_Function())\n",
        "#print(My_Function())"
      ],
      "metadata": {
        "colab": {
          "base_uri": "https://localhost:8080/"
        },
        "id": "_wnhaS51Fuxk",
        "outputId": "4463ead5-cd2d-4049-c497-4026a1d2c5a6"
      },
      "execution_count": 6,
      "outputs": [
        {
          "output_type": "stream",
          "name": "stdout",
          "text": [
            "False\n"
          ]
        }
      ]
    },
    {
      "cell_type": "code",
      "source": [
        "if My_Function():\n",
        "  print(\"true\")\n",
        "else:\n",
        "  print(\"false\")"
      ],
      "metadata": {
        "colab": {
          "base_uri": "https://localhost:8080/"
        },
        "id": "7tpz5dkDG5Rr",
        "outputId": "9966f353-6dc1-4c8f-ffa4-59c46d3c34c9"
      },
      "execution_count": 9,
      "outputs": [
        {
          "output_type": "stream",
          "name": "stdout",
          "text": [
            "false\n"
          ]
        }
      ]
    },
    {
      "cell_type": "markdown",
      "source": [
        "#Application 1"
      ],
      "metadata": {
        "id": "vDRJyRuYKjSP"
      }
    },
    {
      "cell_type": "code",
      "source": [
        "a=6\n",
        "a=7\n",
        "\n",
        "print(10>9)\n",
        "\n",
        "print(a==b)\n",
        "print(a!=b)"
      ],
      "metadata": {
        "colab": {
          "base_uri": "https://localhost:8080/"
        },
        "id": "sj2qM2hNKlsz",
        "outputId": "62099584-4581-451b-fc45-6be9057182b4"
      },
      "execution_count": 10,
      "outputs": [
        {
          "output_type": "stream",
          "name": "stdout",
          "text": [
            "True\n",
            "False\n",
            "True\n"
          ]
        }
      ]
    },
    {
      "cell_type": "markdown",
      "source": [
        "#Python"
      ],
      "metadata": {
        "id": "OwGuFecmN94f"
      }
    },
    {
      "cell_type": "code",
      "source": [
        "print(10+5)\n",
        "print(10-5)\n",
        "print(10/5)\n",
        "#print(int(10/5))\n",
        "print(10*5)\n",
        "print(10%5)\n",
        "print(10//3)\n",
        "print(10**2)"
      ],
      "metadata": {
        "colab": {
          "base_uri": "https://localhost:8080/"
        },
        "id": "UxyszHhZMEXY",
        "outputId": "403d0d4d-f57b-43dd-af30-29376b510743"
      },
      "execution_count": 16,
      "outputs": [
        {
          "output_type": "stream",
          "name": "stdout",
          "text": [
            "15\n",
            "5\n",
            "2.0\n",
            "50\n",
            "0\n",
            "3\n",
            "100\n"
          ]
        }
      ]
    },
    {
      "cell_type": "markdown",
      "source": [
        "#Bitwise Operators\n"
      ],
      "metadata": {
        "id": "siswuDrJNrWg"
      }
    },
    {
      "cell_type": "code",
      "source": [
        "c = 60 # binary 0011 1100\n",
        "d = 13 # binary 0000 1100\n",
        "\n",
        "c&d\n",
        "print(c|d)\n",
        "print(c^d)\n",
        "\n",
        "print(d<<2)"
      ],
      "metadata": {
        "colab": {
          "base_uri": "https://localhost:8080/"
        },
        "id": "ZGSGbLhDNvwc",
        "outputId": "c1934612-e43e-4e04-e265-24c1bd47bac6"
      },
      "execution_count": 19,
      "outputs": [
        {
          "output_type": "stream",
          "name": "stdout",
          "text": [
            "61\n",
            "49\n",
            "52\n"
          ]
        }
      ]
    },
    {
      "cell_type": "markdown",
      "source": [
        "#Logical Operators"
      ],
      "metadata": {
        "id": "To3LUGDNPyu6"
      }
    },
    {
      "cell_type": "code",
      "source": [
        "h = True\n",
        "I = False\n",
        "h and I\n",
        "h or I\n",
        "not(h or I) "
      ],
      "metadata": {
        "colab": {
          "base_uri": "https://localhost:8080/"
        },
        "id": "iWMcAh-BP2f0",
        "outputId": "2c2de527-c18e-4ea8-bba2-f8733888e153"
      },
      "execution_count": 20,
      "outputs": [
        {
          "output_type": "execute_result",
          "data": {
            "text/plain": [
              "False"
            ]
          },
          "metadata": {},
          "execution_count": 20
        }
      ]
    },
    {
      "cell_type": "markdown",
      "source": [
        "#Python Assignment Operators"
      ],
      "metadata": {
        "id": "ZDdyouSLQaic"
      }
    },
    {
      "cell_type": "code",
      "source": [
        "#x += 3       # x = x + 3\n",
        "#x -= 3       # x = x - 3\n",
        "#x *= 3       # x = x * 3\n",
        "#x /= 3       # x = x / 3\n",
        "#x %= 3       # x = x % 3 "
      ],
      "metadata": {
        "id": "6uKbR05tQcjf"
      },
      "execution_count": null,
      "outputs": []
    },
    {
      "cell_type": "markdown",
      "source": [
        "#Identity Operators"
      ],
      "metadata": {
        "id": "SzeARzlHS6c5"
      }
    },
    {
      "cell_type": "code",
      "source": [
        "h is I\n",
        "h is not I"
      ],
      "metadata": {
        "colab": {
          "base_uri": "https://localhost:8080/"
        },
        "id": "RoY6QWAdS9bg",
        "outputId": "de1d8e48-ebcf-4822-8e11-a4140481d8bf"
      },
      "execution_count": 23,
      "outputs": [
        {
          "output_type": "execute_result",
          "data": {
            "text/plain": [
              "True"
            ]
          },
          "metadata": {},
          "execution_count": 23
        }
      ]
    },
    {
      "cell_type": "markdown",
      "source": [
        "#Control Structure"
      ],
      "metadata": {
        "id": "X9Ha8ocjTQtP"
      }
    },
    {
      "cell_type": "markdown",
      "source": [
        "if statement"
      ],
      "metadata": {
        "id": "lEfF6Wu7Tpr6"
      }
    },
    {
      "cell_type": "code",
      "source": [
        "if a>b:\n",
        "  print(\"a is greater than b\")"
      ],
      "metadata": {
        "id": "B-_dJv4OTrBc"
      },
      "execution_count": 26,
      "outputs": []
    },
    {
      "cell_type": "markdown",
      "source": [
        "Elif Statement"
      ],
      "metadata": {
        "id": "CH0--9AAUWKG"
      }
    },
    {
      "cell_type": "code",
      "source": [
        "a=10\n",
        "b=10\n",
        "\n",
        "if a<b:\n",
        "  print(\"a is less than b\")\n",
        "elif a>b:\n",
        "  print(\"a is greater than b\")\n",
        "else:\n",
        "  print(\"a is equal to b\")\n"
      ],
      "metadata": {
        "colab": {
          "base_uri": "https://localhost:8080/"
        },
        "id": "BYe2SbAUUYyU",
        "outputId": "139b9f60-3e86-437f-8b40-6b81c7205ab0"
      },
      "execution_count": 36,
      "outputs": [
        {
          "output_type": "stream",
          "name": "stdout",
          "text": [
            "a is equal to b\n"
          ]
        }
      ]
    },
    {
      "cell_type": "markdown",
      "source": [
        "Short Hand if statement"
      ],
      "metadata": {
        "id": "RButCUZ2VIC-"
      }
    },
    {
      "cell_type": "code",
      "source": [
        "if a==b:\n",
        "  print(\"a is equal to b\")"
      ],
      "metadata": {
        "colab": {
          "base_uri": "https://localhost:8080/"
        },
        "id": "kxEHKOPUVLqT",
        "outputId": "ed76974e-aa6c-4f83-c469-eaff87033dda"
      },
      "execution_count": 37,
      "outputs": [
        {
          "output_type": "stream",
          "name": "stdout",
          "text": [
            "a is equal to b\n"
          ]
        }
      ]
    },
    {
      "cell_type": "markdown",
      "source": [
        "Short Hand else statement"
      ],
      "metadata": {
        "id": "FKZDtgBEWHyz"
      }
    },
    {
      "cell_type": "code",
      "source": [
        "a=10\n",
        "b=9\n",
        "\n",
        "print(\"a is greater than b\") if a>b else print(\"b is greater than a\")"
      ],
      "metadata": {
        "colab": {
          "base_uri": "https://localhost:8080/"
        },
        "id": "GIekMzspWLtQ",
        "outputId": "a56d0ea4-a2bb-413c-9e7f-dff7e077c503"
      },
      "execution_count": 42,
      "outputs": [
        {
          "output_type": "stream",
          "name": "stdout",
          "text": [
            "a is greater than b\n"
          ]
        }
      ]
    },
    {
      "cell_type": "markdown",
      "source": [
        "And"
      ],
      "metadata": {
        "id": "1ez9DIW5WvDW"
      }
    },
    {
      "cell_type": "code",
      "source": [
        "if a>b and b==b:\n",
        "  print(\"both conditions are true\")"
      ],
      "metadata": {
        "colab": {
          "base_uri": "https://localhost:8080/"
        },
        "id": "2cHqzfTDWwUf",
        "outputId": "f0117107-eac7-4a15-c11d-42d4335b7429"
      },
      "execution_count": 43,
      "outputs": [
        {
          "output_type": "stream",
          "name": "stdout",
          "text": [
            "both conditions are true\n"
          ]
        }
      ]
    },
    {
      "cell_type": "markdown",
      "source": [
        "Or"
      ],
      "metadata": {
        "id": "gk-hwDW-XiGB"
      }
    },
    {
      "cell_type": "code",
      "source": [
        "if a<b or b==b:\n",
        "  print(\"the condition is true\")"
      ],
      "metadata": {
        "colab": {
          "base_uri": "https://localhost:8080/"
        },
        "id": "N28-g4imX3dC",
        "outputId": "4a1ad076-f65b-4e84-d581-5980db7e687c"
      },
      "execution_count": 44,
      "outputs": [
        {
          "output_type": "stream",
          "name": "stdout",
          "text": [
            "the condition is true\n"
          ]
        }
      ]
    },
    {
      "cell_type": "markdown",
      "source": [
        "Nested if"
      ],
      "metadata": {
        "id": "ZMlpwQfeYHFP"
      }
    },
    {
      "cell_type": "code",
      "source": [
        "x = 31\n",
        "\n",
        "if x > 10:\n",
        "  print(\"x is above 10\")\n",
        "  if x>20:\n",
        "    print(\"and also above 20\")\n",
        "    if x>30:\n",
        "      print(\"and also above 30\")\n",
        "      if x>40:\n",
        "        print(\"and also above 40\")\n",
        "      else:\n",
        "        print(\"but not above 40\")"
      ],
      "metadata": {
        "colab": {
          "base_uri": "https://localhost:8080/"
        },
        "id": "z95zp1kmYIaH",
        "outputId": "03cd9697-81a9-4c5b-834c-fcbf58a331a9"
      },
      "execution_count": 46,
      "outputs": [
        {
          "output_type": "stream",
          "name": "stdout",
          "text": [
            "x is above 10\n",
            "and also above 20\n",
            "and also above 30\n",
            "but not above 40\n"
          ]
        }
      ]
    },
    {
      "cell_type": "markdown",
      "source": [
        "#Loop Statement"
      ],
      "metadata": {
        "id": "G11R2-Ihal9y"
      }
    },
    {
      "cell_type": "markdown",
      "source": [
        "for loop"
      ],
      "metadata": {
        "id": "qGVsVoo1armg"
      }
    },
    {
      "cell_type": "code",
      "source": [
        "week"
      ],
      "metadata": {
        "id": "wEihfCPxasl4"
      },
      "execution_count": null,
      "outputs": []
    },
    {
      "cell_type": "markdown",
      "source": [
        "the break statement"
      ],
      "metadata": {
        "id": "ee4zpG6LbbU5"
      }
    },
    {
      "cell_type": "code",
      "source": [
        "#to display sunday to wednesday using for loop\n",
        "for x in week:\n",
        "  print(x)\n",
        "  if x==\"Wednesday\":\n",
        "    break"
      ],
      "metadata": {
        "id": "8CwqL9MqbdC7"
      },
      "execution_count": null,
      "outputs": []
    },
    {
      "cell_type": "code",
      "source": [
        "#to display only wednesday using for loop\n",
        "for x in week:\n",
        "  if x==\"Wednesday\":\n",
        "    break\n",
        "print(x)"
      ],
      "metadata": {
        "id": "VjO99xuactbD"
      },
      "execution_count": null,
      "outputs": []
    },
    {
      "cell_type": "markdown",
      "source": [
        "While statement"
      ],
      "metadata": {
        "id": "190WYv9yc1FE"
      }
    },
    {
      "cell_type": "code",
      "source": [
        "i = 1\n",
        "while i<6:\n",
        "  print(i)\n",
        "  i+=1 # i = i + 1"
      ],
      "metadata": {
        "colab": {
          "base_uri": "https://localhost:8080/"
        },
        "id": "A3IrxwLvc2x-",
        "outputId": "b4408d15-0793-446c-ccc5-8b82f822acd6"
      },
      "execution_count": 50,
      "outputs": [
        {
          "output_type": "stream",
          "name": "stdout",
          "text": [
            "1\n",
            "2\n",
            "3\n",
            "4\n",
            "5\n"
          ]
        }
      ]
    },
    {
      "cell_type": "markdown",
      "source": [
        "Application 3 - creater a python program that displays no.3 using break statement"
      ],
      "metadata": {
        "id": "AwureSY8dZGt"
      }
    },
    {
      "cell_type": "code",
      "source": [
        "i = 3\n",
        "while i<6:\n",
        "  print(i)\n",
        "  i+1 \n",
        "  break"
      ],
      "metadata": {
        "colab": {
          "base_uri": "https://localhost:8080/"
        },
        "id": "rN2RO1Ltd21U",
        "outputId": "f211429a-ce02-486c-fd1c-5907e13abc7a"
      },
      "execution_count": 62,
      "outputs": [
        {
          "output_type": "stream",
          "name": "stdout",
          "text": [
            "3\n"
          ]
        }
      ]
    }
  ]
}