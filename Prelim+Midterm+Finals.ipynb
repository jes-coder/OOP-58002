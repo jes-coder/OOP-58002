{
  "nbformat": 4,
  "nbformat_minor": 0,
  "metadata": {
    "colab": {
      "name": "Untitled0.ipynb",
      "provenance": [],
      "authorship_tag": "ABX9TyPSB1VWRIFWcvX8yw19PraP",
      "include_colab_link": true
    },
    "kernelspec": {
      "name": "python3",
      "display_name": "Python 3"
    },
    "language_info": {
      "name": "python"
    }
  },
  "cells": [
    {
      "cell_type": "markdown",
      "metadata": {
        "id": "view-in-github",
        "colab_type": "text"
      },
      "source": [
        "<a href=\"https://colab.research.google.com/github/jes-coder/OOP-58002/blob/main/Prelim%2BMidterm%2BFinals.ipynb\" target=\"_parent\"><img src=\"https://colab.research.google.com/assets/colab-badge.svg\" alt=\"Open In Colab\"/></a>"
      ]
    },
    {
      "cell_type": "code",
      "execution_count": null,
      "metadata": {
        "colab": {
          "base_uri": "https://localhost:8080/"
        },
        "id": "d4T9K_4hKXtv",
        "outputId": "d507076a-5a3b-4b39-a329-4abcbf0cdc24"
      },
      "outputs": [
        {
          "output_type": "stream",
          "name": "stdout",
          "text": [
            "Enter the name of Student 1 : jesrael \n",
            "Enter the grade of jesrael  on Prelim: 56\n",
            "Enter the grade of jesrael  on Midterm: 65\n",
            "Enter the grade of jesrael  on Finals: 66\n",
            "jesrael  Grades are [56, 65, 66]\n",
            "\n"
          ]
        }
      ],
      "source": [
        "#computes the semestral (prelim+midterm+final) grade of a student\n",
        "\n",
        "class students:\n",
        "    count = 0\n",
        "    def __init__(self, name,):\n",
        "        self.name = name\n",
        "        self.marks = []\n",
        "        students.count = students.count\n",
        "        \n",
        "    def enterMarks(self):\n",
        "        for i in range(1):\n",
        "            m = int(input(\"Enter the grade of %s on Prelim: \"%(self.name)))\n",
        "            self.marks.append(m)\n",
        "        for i in range(1):\n",
        "            m = int(input(\"Enter the grade of %s on Midterm: \"%(self.name)))\n",
        "            self.marks.append(m)\n",
        "        for i in range(1):\n",
        "            m = int(input(\"Enter the grade of %s on Finals: \"%(self.name)))\n",
        "            self.marks.append(m)\n",
        "\n",
        "    def display(self):\n",
        "        print (self.name, \"Grades are\", self.marks)\n",
        "\n",
        "name = input(\"Enter the name of Student 1 : \")\n",
        "\n",
        "s1 = students(name)\n",
        "s1.enterMarks()\n",
        "s1.display()\n",
        "print (\"\")\n",
        "\n",
        "name = input(\"Enter the name of Student 2 : \")\n",
        "\n",
        "s2 = students(name)\n",
        "s2.enterMarks()\n",
        "s2.display()\n",
        "print (\"\")\n",
        "\n",
        "name = input(\"Enter the name of Student 3 : \")\n",
        "\n",
        "s3 = students(name)\n",
        "s3.enterMarks()\n",
        "s3.display()\n",
        "print (\"\")\n",
        "\n",
        "print()"
      ]
    }
  ]
}