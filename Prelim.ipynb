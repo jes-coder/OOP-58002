{
  "nbformat": 4,
  "nbformat_minor": 0,
  "metadata": {
    "colab": {
      "name": "Prelim.ipynb",
      "provenance": [],
      "authorship_tag": "ABX9TyNNRxgaSCNV979YuAQLxr9s",
      "include_colab_link": true
    },
    "kernelspec": {
      "name": "python3",
      "display_name": "Python 3"
    },
    "language_info": {
      "name": "python"
    }
  },
  "cells": [
    {
      "cell_type": "markdown",
      "metadata": {
        "id": "view-in-github",
        "colab_type": "text"
      },
      "source": [
        "<a href=\"https://colab.research.google.com/github/jes-coder/OOP-58002/blob/main/Prelim.ipynb\" target=\"_parent\"><img src=\"https://colab.research.google.com/assets/colab-badge.svg\" alt=\"Open In Colab\"/></a>"
      ]
    },
    {
      "cell_type": "markdown",
      "source": [
        ""
      ],
      "metadata": {
        "id": "XeY3PIseJHz9"
      }
    },
    {
      "cell_type": "code",
      "execution_count": null,
      "metadata": {
        "id": "J2HKISENGKx7"
      },
      "outputs": [],
      "source": [
        "# full name , age , student number, course\n",
        "def personal_details():\n",
        "    full_name, age = \"Jesrael Cuabo Sy \", 20\n",
        "    student_number = \"202111826 \"\n",
        "    course = \" Computer Engineering\"\n",
        "    print(\"full_Name: {}\\nAge: {}\\nStudent_number: {}\\ncourse :{}\".format(full_name, age, student_number, course))\n",
        "\n",
        "personal_details()"
      ]
    },
    {
      "cell_type": "code",
      "source": [
        "class Person:\n",
        "  def __init__(self, Name ,Student_No, Age , School , Course):\n",
        "    self.Name = Name\n",
        "    self.Student_No = Student_No\n",
        "    self.Age = Age\n",
        "    self.School = School\n",
        "    self.Course = Course\n",
        "  \n",
        "  def myFunction(self):\n",
        "    print(self.Name, \n",
        "          self.Student_No, \n",
        "          self.Age, \n",
        "          self.School, \n",
        "          self.Course)\n",
        "\n",
        "p1= Person(\"Jesrael Sy\", \n",
        "           \"\\n202111826\", \n",
        "           \"\\n20\", \n",
        "           \"\\nAdamson University\", \n",
        "           \"\\nComputer Engineering\")\n",
        "p1.myFunction()"
      ],
      "metadata": {
        "id": "oJG1jMDvNN76",
        "outputId": "cf066949-1bab-4479-f1df-91917f532b91",
        "colab": {
          "base_uri": "https://localhost:8080/"
        }
      },
      "execution_count": 41,
      "outputs": [
        {
          "output_type": "stream",
          "name": "stdout",
          "text": [
            "Jesrael Sy \n",
            "202111826 \n",
            "20 \n",
            "Adamson University \n",
            "Computer Engineering\n"
          ]
        }
      ]
    }
  ]
}