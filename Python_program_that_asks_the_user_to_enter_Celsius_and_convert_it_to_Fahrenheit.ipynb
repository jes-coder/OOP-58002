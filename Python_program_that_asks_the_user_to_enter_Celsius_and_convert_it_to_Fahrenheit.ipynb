{
  "nbformat": 4,
  "nbformat_minor": 0,
  "metadata": {
    "colab": {
      "name": "Python program that asks the user to enter Celsius and convert it to Fahrenheit.ipynb",
      "provenance": [],
      "authorship_tag": "ABX9TyPvlQwzD84mfjoLrEF64Eep",
      "include_colab_link": true
    },
    "kernelspec": {
      "name": "python3",
      "display_name": "Python 3"
    },
    "language_info": {
      "name": "python"
    }
  },
  "cells": [
    {
      "cell_type": "markdown",
      "metadata": {
        "id": "view-in-github",
        "colab_type": "text"
      },
      "source": [
        "<a href=\"https://colab.research.google.com/github/jes-coder/OOP-58002/blob/main/Python_program_that_asks_the_user_to_enter_Celsius_and_convert_it_to_Fahrenheit.ipynb\" target=\"_parent\"><img src=\"https://colab.research.google.com/assets/colab-badge.svg\" alt=\"Open In Colab\"/></a>"
      ]
    },
    {
      "cell_type": "code",
      "source": [
        "#c = celsius\n",
        "#f = fahrenheit\n",
        "\n",
        "class Temperature():\n",
        "  def __init__(self,Celsius):\n",
        "    self.Celsius = Celsius\n",
        "\n",
        "print(\"Enter the Temperature in Celsius:\")\n",
        "c, f = float(input()), 0\n",
        "f = (float)((c * 9 / 5) + 32)\n",
        "\n",
        "print(c,\" Celsius = \", f, \" Fahrenheit \")"
      ],
      "metadata": {
        "colab": {
          "base_uri": "https://localhost:8080/"
        },
        "id": "0NK849cE1xcF",
        "outputId": "08b25cb0-9447-4873-a0cd-d629e2915137"
      },
      "execution_count": 20,
      "outputs": [
        {
          "output_type": "stream",
          "name": "stdout",
          "text": [
            "Enter the Temperature in Celsius:\n",
            "25\n",
            "25.0  Celsius =  77.0  Fahrenheit \n"
          ]
        }
      ]
    }
  ]
}