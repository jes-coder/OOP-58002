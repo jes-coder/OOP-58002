{
  "nbformat": 4,
  "nbformat_minor": 0,
  "metadata": {
    "colab": {
      "name": "Sy,JesraelC_FinalExam.ipynb",
      "provenance": [],
      "authorship_tag": "ABX9TyNiGsBquMYvNWTMca6wPNyo",
      "include_colab_link": true
    },
    "kernelspec": {
      "name": "python3",
      "display_name": "Python 3"
    },
    "language_info": {
      "name": "python"
    }
  },
  "cells": [
    {
      "cell_type": "markdown",
      "metadata": {
        "id": "view-in-github",
        "colab_type": "text"
      },
      "source": [
        "<a href=\"https://colab.research.google.com/github/jes-coder/OOP-58002/blob/main/Sy%2CJesraelC_FinalExam.ipynb\" target=\"_parent\"><img src=\"https://colab.research.google.com/assets/colab-badge.svg\" alt=\"Open In Colab\"/></a>"
      ]
    },
    {
      "cell_type": "code",
      "execution_count": 44,
      "metadata": {
        "id": "oEfzcA9ts4hT"
      },
      "outputs": [],
      "source": [
        "#@title Results { vertical-output: true, display-mode: \"both\" }\n",
        "def main():\n",
        "  \n",
        "# Find the least number among three numbers\n",
        "    \n",
        "    first_number =  \"5 \" #@param {type:\"string\"}\n",
        "    second_number =  \" 2 \" #@param {type:\"string\"}\n",
        "    third_number = \" 3 \" #@param {type:\"string\"}\n",
        "    least_number = \" second number is the least number among three \" #@param {type:\"string\"}\n",
        "    \n",
        "    print(first_number)\n",
        "    print(second_number) \n",
        "    print(third_number)"
      ]
    }
  ]
}